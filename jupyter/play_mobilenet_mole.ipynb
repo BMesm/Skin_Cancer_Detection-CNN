{
 "cells": [
  {
   "cell_type": "code",
   "execution_count": 1,
   "id": "b5425f93-c4ed-44a5-a8f1-638b748659fe",
   "metadata": {},
   "outputs": [],
   "source": [
    "import os\n",
    "import numpy as np\n",
    "import tensorflow as tf\n",
    "import pandas as pd\n",
    "import pickle\n",
    "from sklearn.metrics import confusion_matrix\n",
    "from tensorflow.keras.models import load_model"
   ]
  },
  {
   "cell_type": "code",
   "execution_count": 2,
   "id": "df819a86-8e68-44ba-a5b3-1d426b8ca206",
   "metadata": {},
   "outputs": [],
   "source": [
    "from PIL import Image\n",
    "from tensorflow.keras.applications.mobilenet_v2 import MobileNetV2, preprocess_input\n",
    "from tensorflow.keras.preprocessing import image\n",
    "import os\n",
    "import numpy as np\n",
    "from sklearn.model_selection import train_test_split"
   ]
  },
  {
   "cell_type": "code",
   "execution_count": 23,
   "id": "cad19a51-9164-46c4-ae3d-6dbd9a10dcba",
   "metadata": {},
   "outputs": [],
   "source": [
    "import pickle\n",
    "from tensorflow.keras import Sequential\n",
    "from tensorflow.keras.layers import Dense, BatchNormalization, Flatten, Dropout\n",
    "from tensorflow.python.keras.callbacks import EarlyStopping\n",
    "from tensorflow.python.keras.layers import Conv2D, MaxPool2D"
   ]
  },
  {
   "cell_type": "code",
   "execution_count": 4,
   "id": "004f9bd6-5355-42cc-bc68-98ea60a6c536",
   "metadata": {},
   "outputs": [],
   "source": [
    "import tensorflow\n",
    "from sklearn.metrics import classification_report"
   ]
  },
  {
   "cell_type": "code",
   "execution_count": 9,
   "id": "6769dd71-068c-42dd-812b-2dd82dc9bfdc",
   "metadata": {},
   "outputs": [],
   "source": [
    "import matplotlib.pyplot as plt\n",
    "import itertools"
   ]
  },
  {
   "cell_type": "code",
   "execution_count": 10,
   "id": "23d19736-0220-43c4-98c8-1fc9076bbd33",
   "metadata": {},
   "outputs": [
    {
     "data": {
      "text/html": [
       "<div>\n",
       "<style scoped>\n",
       "    .dataframe tbody tr th:only-of-type {\n",
       "        vertical-align: middle;\n",
       "    }\n",
       "\n",
       "    .dataframe tbody tr th {\n",
       "        vertical-align: top;\n",
       "    }\n",
       "\n",
       "    .dataframe thead th {\n",
       "        text-align: right;\n",
       "    }\n",
       "</style>\n",
       "<table border=\"1\" class=\"dataframe\">\n",
       "  <thead>\n",
       "    <tr style=\"text-align: right;\">\n",
       "      <th></th>\n",
       "      <th>Unnamed: 0</th>\n",
       "      <th>image_id</th>\n",
       "      <th>dx</th>\n",
       "    </tr>\n",
       "  </thead>\n",
       "  <tbody>\n",
       "    <tr>\n",
       "      <th>0</th>\n",
       "      <td>0</td>\n",
       "      <td>ISIC_0024306</td>\n",
       "      <td>4</td>\n",
       "    </tr>\n",
       "    <tr>\n",
       "      <th>1</th>\n",
       "      <td>1</td>\n",
       "      <td>ISIC_0024307</td>\n",
       "      <td>4</td>\n",
       "    </tr>\n",
       "    <tr>\n",
       "      <th>2</th>\n",
       "      <td>2</td>\n",
       "      <td>ISIC_0024308</td>\n",
       "      <td>4</td>\n",
       "    </tr>\n",
       "    <tr>\n",
       "      <th>3</th>\n",
       "      <td>3</td>\n",
       "      <td>ISIC_0024309</td>\n",
       "      <td>4</td>\n",
       "    </tr>\n",
       "    <tr>\n",
       "      <th>4</th>\n",
       "      <td>4</td>\n",
       "      <td>ISIC_0024310</td>\n",
       "      <td>6</td>\n",
       "    </tr>\n",
       "  </tbody>\n",
       "</table>\n",
       "</div>"
      ],
      "text/plain": [
       "   Unnamed: 0      image_id  dx\n",
       "0           0  ISIC_0024306   4\n",
       "1           1  ISIC_0024307   4\n",
       "2           2  ISIC_0024308   4\n",
       "3           3  ISIC_0024309   4\n",
       "4           4  ISIC_0024310   6"
      ]
     },
     "execution_count": 10,
     "metadata": {},
     "output_type": "execute_result"
    }
   ],
   "source": [
    "metadata_labels = pd.read_csv('Mole_detection/csv_files/metadata_labels.csv')\n",
    "metadata_labels.head()"
   ]
  },
  {
   "cell_type": "code",
   "execution_count": 7,
   "id": "38589bb0-0577-4be8-a81d-d11ac3cf5781",
   "metadata": {},
   "outputs": [
    {
     "data": {
      "text/plain": [
       "4    6705\n",
       "6    1113\n",
       "2    1099\n",
       "1     514\n",
       "0     327\n",
       "5     142\n",
       "3     115\n",
       "Name: dx, dtype: int64"
      ]
     },
     "execution_count": 7,
     "metadata": {},
     "output_type": "execute_result"
    }
   ],
   "source": [
    "metadata_labels.dx.value_counts()\n"
   ]
  },
  {
   "cell_type": "code",
   "execution_count": 9,
   "id": "a5c4d5f0-24df-4c8f-964b-6e0c093f9ba5",
   "metadata": {},
   "outputs": [],
   "source": [
    "binary_csv = metadata_labels.copy()\n",
    "binary_csv.dx = binary_csv.dx.replace([0, 1, 2, 3, 4, 5, 6], [1,1,0,0,0,0,1])"
   ]
  },
  {
   "cell_type": "code",
   "execution_count": 10,
   "id": "98882e12-3f30-46db-b892-bb5c9daa17ba",
   "metadata": {},
   "outputs": [
    {
     "data": {
      "text/plain": [
       "0    8061\n",
       "1    1954\n",
       "Name: dx, dtype: int64"
      ]
     },
     "execution_count": 10,
     "metadata": {},
     "output_type": "execute_result"
    }
   ],
   "source": [
    "binary_csv.dx.value_counts()"
   ]
  },
  {
   "cell_type": "code",
   "execution_count": 11,
   "id": "2f6d580d-5f8c-4ecf-a3aa-d1aad47e2832",
   "metadata": {},
   "outputs": [],
   "source": [
    "cancerous_csv = binary_csv[binary_csv.dx == 1]\n",
    "cancerous_csv.reset_index(inplace=True)\n",
    "cancer_list = cancerous_csv.image_id.to_list()\n"
   ]
  },
  {
   "cell_type": "code",
   "execution_count": 11,
   "id": "b76759e6-ad59-4916-8384-67b985be1fb1",
   "metadata": {},
   "outputs": [],
   "source": [
    "images_paths = [\"Mole_detection/data/HAM10000_images_part_1/\",\n",
    "                \"Mole_detection/data/HAM10000_images_part_2/\"]\n",
    "image_size = (224, 224)"
   ]
  },
  {
   "cell_type": "code",
   "execution_count": 12,
   "id": "7467d2cc-1f0f-4fd4-af2d-04bfae02b517",
   "metadata": {},
   "outputs": [],
   "source": [
    "def get_preprocessed_images_transfer_learning(images_directory: str, image_size: tuple) -> np.array:\n",
    "    images = []\n",
    "    for img in os.listdir(images_directory):\n",
    "        img = image.load_img(images_directory+img, target_size=image_size)\n",
    "        img = image.img_to_array(img)\n",
    "        img = img.reshape((1, img.shape[0], img.shape[1], img.shape[2]))\n",
    "        img = preprocess_input(img)\n",
    "        images.append(img)\n",
    "    return np.vstack(images)"
   ]
  },
  {
   "cell_type": "code",
   "execution_count": 13,
   "id": "46b80c0a-a678-45c0-806c-75c366268a6c",
   "metadata": {},
   "outputs": [],
   "source": [
    "images_array_lst = []\n",
    "for path in images_paths:\n",
    "    images_array = get_preprocessed_images_transfer_learning(path, image_size)\n",
    "    images_array_lst.append(images_array)"
   ]
  },
  {
   "cell_type": "code",
   "execution_count": 11,
   "id": "5f5f0f57-3af6-4bca-bcce-60c57c1d88af",
   "metadata": {},
   "outputs": [],
   "source": [
    "# # binary \n",
    "# images_array_lst = []\n",
    "# for path in images_paths:\n",
    "#     images_array = get_preprocessed_images_transfer_learning(path, image_size)\n",
    "#     images_array_lst.append(images_array)"
   ]
  },
  {
   "cell_type": "code",
   "execution_count": 14,
   "id": "2338fc7e-aa13-4219-950e-8c46dfbce78a",
   "metadata": {},
   "outputs": [],
   "source": [
    "skin_images = np.vstack(images_array_lst)"
   ]
  },
  {
   "cell_type": "code",
   "execution_count": 15,
   "id": "efb50fd7-7ade-4e87-82cf-93b929e84764",
   "metadata": {},
   "outputs": [],
   "source": [
    "X = skin_images\n",
    "target = metadata_labels.dx[:X.shape[0]]\n",
    "# binary_target = binary_csv.dx[:X.shape[0]]"
   ]
  },
  {
   "cell_type": "code",
   "execution_count": 16,
   "id": "b9b14472-722b-49cc-a731-409df90b518b",
   "metadata": {},
   "outputs": [
    {
     "ename": "NameError",
     "evalue": "name 'binary_target' is not defined",
     "output_type": "error",
     "traceback": [
      "\u001b[1;31m---------------------------------------------------------------------------\u001b[0m",
      "\u001b[1;31mNameError\u001b[0m                                 Traceback (most recent call last)",
      "\u001b[1;32m~\\AppData\\Local\\Temp/ipykernel_23800/3975202683.py\u001b[0m in \u001b[0;36m<module>\u001b[1;34m\u001b[0m\n\u001b[0;32m      1\u001b[0m \u001b[0mX\u001b[0m\u001b[1;33m.\u001b[0m\u001b[0mshape\u001b[0m\u001b[1;33m\u001b[0m\u001b[1;33m\u001b[0m\u001b[0m\n\u001b[1;32m----> 2\u001b[1;33m \u001b[0mbinary_target\u001b[0m\u001b[1;33m.\u001b[0m\u001b[0mshape\u001b[0m\u001b[1;33m\u001b[0m\u001b[1;33m\u001b[0m\u001b[0m\n\u001b[0m\u001b[0;32m      3\u001b[0m \u001b[0mbinary_target\u001b[0m\u001b[1;33m[\u001b[0m\u001b[1;33m:\u001b[0m\u001b[1;36m6\u001b[0m\u001b[1;33m]\u001b[0m\u001b[1;33m\u001b[0m\u001b[1;33m\u001b[0m\u001b[0m\n",
      "\u001b[1;31mNameError\u001b[0m: name 'binary_target' is not defined"
     ]
    }
   ],
   "source": [
    "X.shape\n",
    "binary_target.shape\n",
    "binary_target[:6]"
   ]
  },
  {
   "cell_type": "code",
   "execution_count": 18,
   "id": "ba549673-a970-49d2-803b-20a0d3bd9086",
   "metadata": {},
   "outputs": [],
   "source": [
    "df_tsne = pd.read_csv('Mole_detection/data/hmnist_28_28_RGB.csv')\n",
    "X_tsne = df_tsne.drop('label', axis=1)"
   ]
  },
  {
   "cell_type": "code",
   "execution_count": 19,
   "id": "588ade69-3186-4d36-8fe3-5d573888ef06",
   "metadata": {},
   "outputs": [
    {
     "ename": "NameError",
     "evalue": "name 'sns' is not defined",
     "output_type": "error",
     "traceback": [
      "\u001b[1;31m---------------------------------------------------------------------------\u001b[0m",
      "\u001b[1;31mNameError\u001b[0m                                 Traceback (most recent call last)",
      "\u001b[1;32m~\\AppData\\Local\\Temp/ipykernel_42696/2945980018.py\u001b[0m in \u001b[0;36m<module>\u001b[1;34m\u001b[0m\n\u001b[0;32m     11\u001b[0m \u001b[1;33m\u001b[0m\u001b[0m\n\u001b[0;32m     12\u001b[0m \u001b[0mfig\u001b[0m\u001b[1;33m,\u001b[0m \u001b[0max\u001b[0m \u001b[1;33m=\u001b[0m \u001b[0mplt\u001b[0m\u001b[1;33m.\u001b[0m\u001b[0msubplots\u001b[0m\u001b[1;33m(\u001b[0m\u001b[0mfigsize\u001b[0m\u001b[1;33m=\u001b[0m\u001b[1;33m(\u001b[0m\u001b[1;36m10\u001b[0m\u001b[1;33m,\u001b[0m \u001b[1;36m8\u001b[0m\u001b[1;33m)\u001b[0m\u001b[1;33m)\u001b[0m\u001b[1;33m\u001b[0m\u001b[1;33m\u001b[0m\u001b[0m\n\u001b[1;32m---> 13\u001b[1;33m \u001b[0msns\u001b[0m\u001b[1;33m.\u001b[0m\u001b[0mscatterplot\u001b[0m\u001b[1;33m(\u001b[0m\u001b[0mx\u001b[0m\u001b[1;33m=\u001b[0m\u001b[1;34m'x'\u001b[0m\u001b[1;33m,\u001b[0m \u001b[0my\u001b[0m\u001b[1;33m=\u001b[0m\u001b[1;34m'y'\u001b[0m\u001b[1;33m,\u001b[0m \u001b[0mhue\u001b[0m\u001b[1;33m=\u001b[0m\u001b[1;34m'target'\u001b[0m\u001b[1;33m,\u001b[0m \u001b[0mdata\u001b[0m\u001b[1;33m=\u001b[0m\u001b[0mX_copy\u001b[0m\u001b[1;33m,\u001b[0m \u001b[0malpha\u001b[0m\u001b[1;33m=\u001b[0m\u001b[1;36m0.8\u001b[0m\u001b[1;33m)\u001b[0m\u001b[1;33m\u001b[0m\u001b[1;33m\u001b[0m\u001b[0m\n\u001b[0m\u001b[0;32m     14\u001b[0m \u001b[0mplt\u001b[0m\u001b[1;33m.\u001b[0m\u001b[0mlegend\u001b[0m\u001b[1;33m(\u001b[0m\u001b[0mbbox_to_anchor\u001b[0m\u001b[1;33m=\u001b[0m\u001b[1;33m[\u001b[0m\u001b[1;33m-\u001b[0m\u001b[1;36m0.15\u001b[0m\u001b[1;33m,\u001b[0m \u001b[1;36m0.5\u001b[0m\u001b[1;33m]\u001b[0m\u001b[1;33m,\u001b[0m \u001b[0mloc\u001b[0m\u001b[1;33m=\u001b[0m\u001b[1;34m'center left'\u001b[0m\u001b[1;33m)\u001b[0m\u001b[1;33m\u001b[0m\u001b[1;33m\u001b[0m\u001b[0m\n\u001b[0;32m     15\u001b[0m \u001b[0mplt\u001b[0m\u001b[1;33m.\u001b[0m\u001b[0mtitle\u001b[0m\u001b[1;33m(\u001b[0m\u001b[1;34m'perplexity '\u001b[0m \u001b[1;33m+\u001b[0m \u001b[0mstr\u001b[0m\u001b[1;33m(\u001b[0m\u001b[0mp\u001b[0m\u001b[1;33m)\u001b[0m\u001b[1;33m)\u001b[0m\u001b[1;33m\u001b[0m\u001b[1;33m\u001b[0m\u001b[0m\n",
      "\u001b[1;31mNameError\u001b[0m: name 'sns' is not defined"
     ]
    },
    {
     "data": {
      "image/png": "[encoded data removed]",
      "text/plain": [
       "<Figure size 720x576 with 1 Axes>"
      ]
     },
     "metadata": {
      "needs_background": "light"
     },
     "output_type": "display_data"
    }
   ],
   "source": [
    "from sklearn.manifold import TSNE\n",
    "\n",
    "X_copy = X_tsne.copy()\n",
    "\n",
    "p = 15\n",
    "model = TSNE(perplexity=p, random_state=42)\n",
    "tsne_features = model.fit_transform(X_tsne)\n",
    "X_copy['x'] = tsne_features[:, 0]\n",
    "X_copy['y'] = tsne_features[:, 1]\n",
    "X_copy['target'] = target\n",
    "\n",
    "fig, ax = plt.subplots(figsize=(10, 8))\n",
    "sns.scatterplot(x='x', y='y', hue='target', data=X_copy, alpha=0.8)\n",
    "plt.legend(bbox_to_anchor=[-0.15, 0.5], loc='center left')\n",
    "plt.title('perplexity ' + str(p))\n",
    "plt.xticks([])\n",
    "plt.yticks([])\n",
    "plt.show()"
   ]
  },
  {
   "cell_type": "code",
   "execution_count": 17,
   "id": "8ef41010-b3d7-45e2-b11b-8785ddd4bb46",
   "metadata": {},
   "outputs": [],
   "source": [
    "target_one_hot = tf.keras.utils.to_categorical(target, num_classes=7, dtype=\"int\")\n",
    "# binary_target_one_hot = tf.keras.utils.to_categorical(binary_target, num_classes=7, dtype=\"int\")"
   ]
  },
  {
   "cell_type": "code",
   "execution_count": 18,
   "id": "0cc1fd6f-b0ba-459b-8c08-c239e9e00679",
   "metadata": {},
   "outputs": [],
   "source": [
    "def split_in_train_val_test(X, target):\n",
    "    X_train_val, X_test, y_train_val, y_test = train_test_split(\n",
    "        X,\n",
    "        target,\n",
    "        test_size=0.2,\n",
    "        random_state=42,\n",
    "        shuffle=True\n",
    "    )\n",
    "\n",
    "    X_train, X_val, y_train, y_val = train_test_split(\n",
    "        X_train_val,\n",
    "        y_train_val,\n",
    "        test_size=0.2,\n",
    "        random_state=42,\n",
    "        shuffle=True\n",
    "    )\n",
    "\n",
    "    return X_train, X_val, y_train, y_val, X_test, y_test"
   ]
  },
  {
   "cell_type": "code",
   "execution_count": 19,
   "id": "1d51aec3-9293-4a37-9f12-75ede9c31f44",
   "metadata": {},
   "outputs": [],
   "source": [
    "# multiclass\n",
    "X_train, X_val, y_train, y_val, X_test, y_test = split_in_train_val_test(X, target_one_hot)"
   ]
  },
  {
   "cell_type": "code",
   "execution_count": 38,
   "id": "f4d742b6-9c7c-4dea-87fc-456457097b41",
   "metadata": {},
   "outputs": [],
   "source": [
    "#binary\n",
    "X_train, X_val, y_train, y_val, X_test, y_test = split_in_train_val_test(X, binary_target)"
   ]
  },
  {
   "cell_type": "code",
   "execution_count": 21,
   "id": "427d00bb-c20d-4619-b2fa-16f947a90866",
   "metadata": {},
   "outputs": [],
   "source": [
    "def instantiate_model_v3_mobilenet(X_train, X_val, y_train, y_val):\n",
    "    model = MobileNetV2(weights='imagenet', include_top=False, input_shape=(224, 224, 3))\n",
    "\n",
    "    for layer in model.layers:\n",
    "        layer.trainable = False\n",
    "\n",
    "    new_model = Sequential()\n",
    "    new_model.add(model)\n",
    "#     new_model.add(Conv2D(32, activation='relu'))\n",
    "    new_model.add(Dropout(0.5))\n",
    "#     new_model.add(BatchNormalization())\n",
    "    new_model.add(Flatten())\n",
    "    new_model.add(Dropout(0.5))\n",
    "    new_model.add(Dense(64, activation='relu'))\n",
    "    new_model.add(Dropout(0.5))\n",
    "    new_model.add(Dense(7, activation='softmax'))\n",
    "\n",
    "    new_model.compile(optimizer='adam',\n",
    "                      loss='binary_crossentropy',\n",
    "                      metrics=['accuracy']\n",
    "                     )\n",
    "\n",
    "    history = new_model.fit(X_train, y_train,\n",
    "                            epochs=30,\n",
    "                            batch_size=64,\n",
    "                            validation_data=(X_val, y_val)\n",
    "                            )\n",
    "\n",
    "    new_model.save('v3_mobilenetv2_binary.h5')\n",
    "    with open('v3_history', 'wb') as filepath:\n",
    "        pickle.dump(history.history, filepath)\n",
    "\n",
    "    return history.history, new_model"
   ]
  },
  {
   "cell_type": "code",
   "execution_count": 26,
   "id": "7e434d15-1a3f-4ee8-a8d9-063c4462cf36",
   "metadata": {},
   "outputs": [
    {
     "name": "stdout",
     "output_type": "stream",
     "text": [
      "Epoch 1/30\n",
      "101/101 [==============================] - 20s 164ms/step - loss: 0.5152 - accuracy: 0.6502 - val_loss: 0.2578 - val_accuracy: 0.6887\n",
      "Epoch 2/30\n",
      "101/101 [==============================] - 15s 152ms/step - loss: 0.3424 - accuracy: 0.6756 - val_loss: 0.2091 - val_accuracy: 0.6937\n",
      "Epoch 3/30\n",
      "101/101 [==============================] - 16s 154ms/step - loss: 0.3095 - accuracy: 0.6767 - val_loss: 0.2032 - val_accuracy: 0.6843\n",
      "Epoch 4/30\n",
      "101/101 [==============================] - 16s 154ms/step - loss: 0.2767 - accuracy: 0.6795 - val_loss: 0.1991 - val_accuracy: 0.6781\n",
      "Epoch 5/30\n",
      "101/101 [==============================] - 15s 152ms/step - loss: 0.2610 - accuracy: 0.6762 - val_loss: 0.1864 - val_accuracy: 0.7087\n",
      "Epoch 6/30\n",
      "101/101 [==============================] - 16s 155ms/step - loss: 0.2481 - accuracy: 0.6834 - val_loss: 0.1937 - val_accuracy: 0.6974\n",
      "Epoch 7/30\n",
      "101/101 [==============================] - 16s 154ms/step - loss: 0.2386 - accuracy: 0.6840 - val_loss: 0.1850 - val_accuracy: 0.7149\n",
      "Epoch 8/30\n",
      "101/101 [==============================] - 15s 152ms/step - loss: 0.2321 - accuracy: 0.6862 - val_loss: 0.1870 - val_accuracy: 0.6956\n",
      "Epoch 9/30\n",
      "101/101 [==============================] - 16s 155ms/step - loss: 0.2242 - accuracy: 0.6876 - val_loss: 0.1833 - val_accuracy: 0.7099\n",
      "Epoch 10/30\n",
      "101/101 [==============================] - 16s 154ms/step - loss: 0.2177 - accuracy: 0.6912 - val_loss: 0.1804 - val_accuracy: 0.7130\n",
      "Epoch 11/30\n",
      "101/101 [==============================] - 15s 153ms/step - loss: 0.2100 - accuracy: 0.6897 - val_loss: 0.1750 - val_accuracy: 0.7236\n",
      "Epoch 12/30\n",
      "101/101 [==============================] - 16s 155ms/step - loss: 0.2073 - accuracy: 0.6890 - val_loss: 0.1732 - val_accuracy: 0.7274\n",
      "Epoch 13/30\n",
      "101/101 [==============================] - 15s 153ms/step - loss: 0.2023 - accuracy: 0.6920 - val_loss: 0.1746 - val_accuracy: 0.7324\n",
      "Epoch 14/30\n",
      "101/101 [==============================] - 15s 153ms/step - loss: 0.2019 - accuracy: 0.6945 - val_loss: 0.1752 - val_accuracy: 0.7274\n",
      "Epoch 15/30\n",
      "101/101 [==============================] - 16s 158ms/step - loss: 0.1999 - accuracy: 0.6978 - val_loss: 0.1799 - val_accuracy: 0.7168\n",
      "Epoch 16/30\n",
      "101/101 [==============================] - 15s 153ms/step - loss: 0.1957 - accuracy: 0.6975 - val_loss: 0.1730 - val_accuracy: 0.7255\n",
      "Epoch 17/30\n",
      "101/101 [==============================] - 16s 154ms/step - loss: 0.1916 - accuracy: 0.6998 - val_loss: 0.1708 - val_accuracy: 0.7236\n",
      "Epoch 18/30\n",
      "101/101 [==============================] - 16s 154ms/step - loss: 0.1903 - accuracy: 0.7000 - val_loss: 0.1793 - val_accuracy: 0.7236\n",
      "Epoch 19/30\n",
      "101/101 [==============================] - 15s 152ms/step - loss: 0.1865 - accuracy: 0.7023 - val_loss: 0.1730 - val_accuracy: 0.7261\n",
      "Epoch 20/30\n",
      "101/101 [==============================] - 16s 156ms/step - loss: 0.1874 - accuracy: 0.6961 - val_loss: 0.1700 - val_accuracy: 0.7261\n",
      "Epoch 21/30\n",
      "101/101 [==============================] - 16s 156ms/step - loss: 0.1806 - accuracy: 0.7040 - val_loss: 0.1671 - val_accuracy: 0.7336\n",
      "Epoch 22/30\n",
      "101/101 [==============================] - 15s 153ms/step - loss: 0.1808 - accuracy: 0.7043 - val_loss: 0.1740 - val_accuracy: 0.7261\n",
      "Epoch 23/30\n",
      "101/101 [==============================] - 16s 156ms/step - loss: 0.1787 - accuracy: 0.7018 - val_loss: 0.1679 - val_accuracy: 0.7318\n",
      "Epoch 24/30\n",
      "101/101 [==============================] - 16s 154ms/step - loss: 0.1766 - accuracy: 0.7054 - val_loss: 0.1703 - val_accuracy: 0.7255\n",
      "Epoch 25/30\n",
      "101/101 [==============================] - 15s 153ms/step - loss: 0.1776 - accuracy: 0.7032 - val_loss: 0.1751 - val_accuracy: 0.7318\n",
      "Epoch 26/30\n",
      "101/101 [==============================] - 16s 157ms/step - loss: 0.1726 - accuracy: 0.7037 - val_loss: 0.1760 - val_accuracy: 0.7105\n",
      "Epoch 27/30\n",
      "101/101 [==============================] - 16s 154ms/step - loss: 0.1747 - accuracy: 0.7015 - val_loss: 0.1686 - val_accuracy: 0.7274\n",
      "Epoch 28/30\n",
      "101/101 [==============================] - 16s 154ms/step - loss: 0.1708 - accuracy: 0.7106 - val_loss: 0.1668 - val_accuracy: 0.7336\n",
      "Epoch 29/30\n",
      "101/101 [==============================] - 16s 157ms/step - loss: 0.1713 - accuracy: 0.7040 - val_loss: 0.1739 - val_accuracy: 0.7211\n",
      "Epoch 30/30\n",
      "101/101 [==============================] - 15s 153ms/step - loss: 0.1695 - accuracy: 0.7088 - val_loss: 0.1687 - val_accuracy: 0.7424\n"
     ]
    },
    {
     "name": "stderr",
     "output_type": "stream",
     "text": [
      "C:\\Users\\maart\\miniconda3\\envs\\mole_challenge\\lib\\site-packages\\tensorflow\\python\\keras\\utils\\generic_utils.py:494: CustomMaskWarning: Custom mask layers require a config and must override get_config. When loading, the custom mask layer must be passed to the custom_objects argument.\n",
      "  warnings.warn('Custom mask layers require a config and must override '\n"
     ]
    }
   ],
   "source": [
    "history_hist, model = instantiate_model_v3_mobilenet(X_train, X_val, y_train, y_val)"
   ]
  },
  {
   "cell_type": "code",
   "execution_count": 40,
   "id": "1195b746-d527-4e1f-ac17-9005893a1f1f",
   "metadata": {},
   "outputs": [],
   "source": [
    "import tensorflow\n",
    "def plot_history(history: tensorflow.keras.callbacks.History):\n",
    "    fig, axs = plt.subplots(1, 2, figsize=(12, 6))\n",
    "    axs[0].plot(history['accuracy'], label='training set')\n",
    "    axs[0].plot(history['val_accuracy'], label='validation set')\n",
    "    axs[0].set(xlabel='Epoch', ylabel='Accuracy', ylim=[0, 1])\n",
    "\n",
    "    axs[1].plot(history['loss'], label='training set')\n",
    "    axs[1].plot(history['val_loss'], label='validation set')\n",
    "    axs[1].set(xlabel='Epoch', ylabel='Loss', ylim=[0, 3])\n",
    "\n",
    "    axs[0].legend(loc='upper right')\n",
    "    axs[1].legend(loc='upper right')\n",
    "    plt.savefig('plot_history_multiclass.png')\n",
    "    plt.show()"
   ]
  },
  {
   "cell_type": "code",
   "execution_count": 41,
   "id": "c3b9fd85-46ae-4d69-9a23-5c2b138b5f79",
   "metadata": {},
   "outputs": [
    {
     "data": {
      "image/png": "[encoded data removed]",
      "text/plain": [
       "<Figure size 864x432 with 2 Axes>"
      ]
     },
     "metadata": {
      "needs_background": "light"
     },
     "output_type": "display_data"
    }
   ],
   "source": [
    "plot_history(history_hist)"
   ]
  },
  {
   "cell_type": "code",
   "execution_count": 25,
   "id": "c5d399a5-e2b6-47a5-87a8-491ec91f1ad9",
   "metadata": {},
   "outputs": [],
   "source": [
    "# invert one hot encoding\n",
    "y_test_one_column = np.argmax(y_test, axis=1)\n",
    "y_pred = np.argmax(model.predict(X_test), axis=1)"
   ]
  },
  {
   "cell_type": "code",
   "execution_count": 45,
   "id": "56410115-cae0-40db-b6cc-6d799f7ae603",
   "metadata": {},
   "outputs": [],
   "source": [
    "# binary \n",
    "y_pred = np.argmax(model.predict(X_test), axis=1)"
   ]
  },
  {
   "cell_type": "code",
   "execution_count": 26,
   "id": "6e2f299b-4561-411b-9441-559408545b2e",
   "metadata": {},
   "outputs": [
    {
     "data": {
      "text/plain": [
       "array([4, 4, 4, ..., 4, 4, 4], dtype=int64)"
      ]
     },
     "execution_count": 26,
     "metadata": {},
     "output_type": "execute_result"
    }
   ],
   "source": [
    "y_pred"
   ]
  },
  {
   "cell_type": "code",
   "execution_count": 50,
   "id": "1cea22ce-a9cd-489c-9737-854fa9618ba6",
   "metadata": {},
   "outputs": [
    {
     "name": "stdout",
     "output_type": "stream",
     "text": [
      "101/101 [==============================] - 4s 39ms/step - loss: 0.3669 - accuracy: 0.7968\n",
      "Accuracy on test set is 79.68%\n",
      "              precision    recall  f1-score   support\n",
      "\n",
      "           0       0.80      1.00      0.89      1596\n",
      "           1       0.00      0.00      0.00       407\n",
      "\n",
      "    accuracy                           0.80      2003\n",
      "   macro avg       0.40      0.50      0.44      2003\n",
      "weighted avg       0.63      0.80      0.71      2003\n",
      "\n",
      "tf.Tensor(\n",
      "[[1596    0]\n",
      " [ 407    0]], shape=(2, 2), dtype=int32)\n"
     ]
    },
    {
     "name": "stderr",
     "output_type": "stream",
     "text": [
      "C:\\Users\\maart\\miniconda3\\envs\\mole_challenge\\lib\\site-packages\\sklearn\\metrics\\_classification.py:1248: UndefinedMetricWarning: Precision and F-score are ill-defined and being set to 0.0 in labels with no predicted samples. Use `zero_division` parameter to control this behavior.\n",
      "  _warn_prf(average, modifier, msg_start, len(result))\n",
      "C:\\Users\\maart\\miniconda3\\envs\\mole_challenge\\lib\\site-packages\\sklearn\\metrics\\_classification.py:1248: UndefinedMetricWarning: Precision and F-score are ill-defined and being set to 0.0 in labels with no predicted samples. Use `zero_division` parameter to control this behavior.\n",
      "  _warn_prf(average, modifier, msg_start, len(result))\n",
      "C:\\Users\\maart\\miniconda3\\envs\\mole_challenge\\lib\\site-packages\\sklearn\\metrics\\_classification.py:1248: UndefinedMetricWarning: Precision and F-score are ill-defined and being set to 0.0 in labels with no predicted samples. Use `zero_division` parameter to control this behavior.\n",
      "  _warn_prf(average, modifier, msg_start, len(result))\n"
     ]
    }
   ],
   "source": [
    "def print_binary_accuracy_classificationreport_confusionmmatrix(y_pred,\n",
    "                                                         model, X_test, y_test):\n",
    "    results = model.evaluate(X_test, y_test, batch_size=20)\n",
    "    print(f\"Accuracy on test set is {results[1] * 100:.2f}%\")\n",
    "    print(classification_report(y_test, y_pred))\n",
    "    print(tensorflow.math.confusion_matrix(y_test, y_pred))\n",
    "print_binary_accuracy_classificationreport_confusionmmatrix(y_pred,\n",
    "                                                         model, X_test, y_test)"
   ]
  },
  {
   "cell_type": "code",
   "execution_count": null,
   "id": "60196967-5a19-454d-979c-ca89b8bfd51e",
   "metadata": {},
   "outputs": [],
   "source": [
    "def print_accuracy_classificationreport_confusionmmatrix(y_test_one_column, y_pred,\n",
    "                                                         model, X_test, y_test):\n",
    "    results = model.evaluate(X_test, y_test, batch_size=20)\n",
    "    print(f\"Accuracy on test set is {results[1] * 100:.2f}%\")\n",
    "    print(classification_report(y_test_one_column, y_pred))\n",
    "    print(tensorflow.math.confusion_matrix(y_test_one_column, y_pred))"
   ]
  },
  {
   "cell_type": "code",
   "execution_count": null,
   "id": "a3364b0d-01e9-42a1-8ce6-e5d7d5820a3c",
   "metadata": {},
   "outputs": [],
   "source": [
    "print_accuracy_classificationreport_confusionmmatrix(y_test_one_column,\n",
    "                                                y_pred, model, X_test, y_test)"
   ]
  },
  {
   "cell_type": "code",
   "execution_count": 27,
   "id": "97159927-8805-4067-9a4b-dcda1c07d89d",
   "metadata": {},
   "outputs": [],
   "source": [
    "def plot_confusion_matrix(cm, classes,\n",
    "                        normalize=False,\n",
    "                        title='Confusion matrix',\n",
    "                        cmap=plt.cm.Blues, figsize=(10,10)):\n",
    "    if normalize:\n",
    "        cm = cm.astype('float') / cm.sum(axis=1)[:, np.newaxis]\n",
    "        print(\"Normalized confusion matrix\")\n",
    "    else:\n",
    "        print('Confusion matrix, without normalization')\n",
    "\n",
    "    cm = np.round(cm, 2) * 100\n",
    "    print(cm)\n",
    "    thresh = cm.max() / 2.\n",
    "    \n",
    "    fig, ax = plt.subplots(figsize=(7,7))\n",
    "    \n",
    "    plt.imshow(cm, interpolation='nearest', cmap=cmap)\n",
    "    plt.title(title)\n",
    "    tick_marks = np.arange(len(classes))\n",
    "    plt.xticks(tick_marks, classes, rotation=45)\n",
    "    plt.yticks(tick_marks, classes)\n",
    "\n",
    "    for i, j in itertools.product(range(cm.shape[0]), range(cm.shape[1])):\n",
    "        plt.text(j, i, cm[i, j],\n",
    "            horizontalalignment=\"center\",\n",
    "            color=\"white\" if cm[i, j] > thresh else \"black\")\n",
    "    plt.tight_layout()\n",
    "    plt.ylabel('True label')\n",
    "    plt.xlabel('Predicted label')\n",
    "    plt.colorbar()\n",
    "    name_path = 'confusion_matrix_multiclass.jpg'\n",
    "    plt.savefig(name_path)\n",
    "    plt.show()"
   ]
  },
  {
   "cell_type": "code",
   "execution_count": 28,
   "id": "5ef2bce5-32b1-40d9-b51c-ed2269ed02e2",
   "metadata": {},
   "outputs": [
    {
     "name": "stdout",
     "output_type": "stream",
     "text": [
      "Normalized confusion matrix\n",
      "[[  0.   0.   0.   0. 100.   0.   0.]\n",
      " [  0.   0.   0.   0. 100.   0.   0.]\n",
      " [  0.   0.   0.   0. 100.   0.   0.]\n",
      " [  0.   0.   0.   0. 100.   0.   0.]\n",
      " [  0.   0.   0.   0. 100.   0.   0.]\n",
      " [  0.   0.   0.   0. 100.   0.   0.]\n",
      " [  0.   0.   0.   0. 100.   0.   0.]]\n"
     ]
    },
    {
     "data": {
      "image/png": "[encoded data removed]",
      "text/plain": [
       "<Figure size 504x504 with 2 Axes>"
      ]
     },
     "metadata": {
      "needs_background": "light"
     },
     "output_type": "display_data"
    }
   ],
   "source": [
    "cm = confusion_matrix(y_test_one_column, y_pred)\n",
    "classes = ['akiec', 'bcc', 'bkl', 'df', 'nv', 'vasc', 'mel']\n",
    "plot_confusion_matrix(cm, classes, normalize=True)"
   ]
  },
  {
   "cell_type": "code",
   "execution_count": null,
   "id": "8573f982-dde8-4f2b-985f-a94855224d32",
   "metadata": {},
   "outputs": [],
   "source": []
  }
 ],
 "metadata": {
  "kernelspec": {
   "display_name": "mole",
   "language": "python",
   "name": "mole"
  },
  "language_info": {
   "codemirror_mode": {
    "name": "ipython",
    "version": 3
   },
   "file_extension": ".py",
   "mimetype": "text/x-python",
   "name": "python",
   "nbconvert_exporter": "python",
   "pygments_lexer": "ipython3",
   "version": "3.9.7"
  }
 },
 "nbformat": 4,
 "nbformat_minor": 5
}
